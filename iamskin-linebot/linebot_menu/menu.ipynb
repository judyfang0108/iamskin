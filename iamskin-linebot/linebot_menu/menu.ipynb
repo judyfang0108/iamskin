{
 "cells": [
  {
   "cell_type": "markdown",
   "metadata": {},
   "source": [
    "## 匯入.env內的access token"
   ]
  },
  {
   "cell_type": "code",
   "execution_count": 1,
   "metadata": {},
   "outputs": [],
   "source": [
    "import os\n",
    "import sys\n",
    "from dotenv import load_dotenv\n",
    "\n",
    "# get channel_secret and channel_access_token from your environment variable\n",
    "load_dotenv()\n",
    "channel_access_token = os.getenv(\"LINE_CHANNEL_ACCESS_TOKEN\", None)\n",
    "\n",
    "if channel_access_token is None:\n",
    "    print(\"Specify LINE_CHANNEL_ACCESS_TOKEN as environment variable.\")\n",
    "    sys.exit(1)"
   ]
  },
  {
   "cell_type": "markdown",
   "metadata": {},
   "source": [
    "## 設定圖片與按鈕位置，產生圖文選單 id"
   ]
  },
  {
   "cell_type": "code",
   "execution_count": 4,
   "metadata": {},
   "outputs": [
    {
     "name": "stdout",
     "output_type": "stream",
     "text": [
      "{\"richMenuId\":\"richmenu-c4b5962ad93afa75c8c4b0c0041d2f2d\"}\n"
     ]
    }
   ],
   "source": [
    "import requests\n",
    "import json\n",
    "headers = {'Authorization':f'Bearer {channel_access_token}', 'Content-Type':'application/json'}\n",
    "\n",
    "body = {\n",
    "    'size': {'width': 2500, 'height': 810},    # 設定尺寸\n",
    "    'selected': 'true',                        # 預設是否顯示\n",
    "    'name': 'menu_4',                          # 選單名稱\n",
    "    'chatBarText': 'AI檢測',                    # 選單在 LINE 顯示的標題\n",
    "    'areas':[                                  # 選單內容\n",
    "        {\n",
    "          'bounds': {'x': 0, 'y': 0, 'width': 625, 'height': 810},           # 選單位置與大小\n",
    "          'action': {'type': 'message', 'text': '我要檢測 膚質'}  # 點擊後傳送文字\n",
    "        },\n",
    "        {\n",
    "          'bounds': {'x': 625, 'y': 0, 'width':625, 'height': 810},     # 選單位置與大小\n",
    "          'action': {'type': 'message', 'text':'我要檢測 指甲'}               # 點擊後傳送文字\n",
    "        },\n",
    "        {\n",
    "          'bounds': {'x': 1250, 'y': 0, 'width':625, 'height': 810},    # 選單位置與大小\n",
    "          'action': {'type': 'message', 'text':'我要檢測 痘痘'}               # 點擊後傳送文字\n",
    "        },\n",
    "        {\n",
    "          'bounds': {'x': 1875, 'y': 0, 'width':625, 'height': 810},    # 選單位置與大小\n",
    "          'action': {'type': 'message', 'text':'如何使用'}               # 點擊後傳送文字\n",
    "        }\n",
    "    ]\n",
    "  }\n",
    "# 向指定網址發送 request\n",
    "req = requests.request('POST', 'https://api.line.me/v2/bot/richmenu',\n",
    "                      headers=headers,data=json.dumps(body).encode('utf-8'))\n",
    "# 印出得到的結果\n",
    "print(req.text)"
   ]
  },
  {
   "cell_type": "markdown",
   "metadata": {},
   "source": [
    "## 將圖文選單綁定圖片"
   ]
  },
  {
   "cell_type": "code",
   "execution_count": 5,
   "metadata": {},
   "outputs": [],
   "source": [
    "from linebot import  LineBotApi, WebhookHandler\n",
    "\n",
    "line_bot_api = LineBotApi(channel_access_token)\n",
    "\n",
    "with open(\"./menu_V5.png\", 'rb') as f:\n",
    "    line_bot_api.set_rich_menu_image(\"richmenu-c4b5962ad93afa75c8c4b0c0041d2f2d\", \"image/png\", f)"
   ]
  },
  {
   "cell_type": "markdown",
   "metadata": {},
   "source": [
    "## 將圖文選單與 LINE BOT 綁定"
   ]
  },
  {
   "cell_type": "code",
   "execution_count": 6,
   "metadata": {},
   "outputs": [
    {
     "name": "stdout",
     "output_type": "stream",
     "text": [
      "{}\n"
     ]
    }
   ],
   "source": [
    "import requests\n",
    "\n",
    "headers = {\"Authorization\":f\"Bearer {channel_access_token}\",\"Content-Type\":\"application/json\"}\n",
    "\n",
    "req = requests.request('POST', 'https://api.line.me/v2/bot/user/all/richmenu/richmenu-c4b5962ad93afa75c8c4b0c0041d2f2d', \n",
    "                      headers=headers)\n",
    "\n",
    "print(req.text)"
   ]
  },
  {
   "cell_type": "markdown",
   "metadata": {},
   "source": [
    "## 查看所有 Rich menus"
   ]
  },
  {
   "cell_type": "code",
   "execution_count": 7,
   "metadata": {},
   "outputs": [
    {
     "name": "stdout",
     "output_type": "stream",
     "text": [
      "richmenu-c4b5962ad93afa75c8c4b0c0041d2f2d\n",
      "richmenu-70f25d02579ad96aaf427f3b3de8a440\n"
     ]
    }
   ],
   "source": [
    "from linebot import  LineBotApi, WebhookHandler\n",
    "\n",
    "line_bot_api = LineBotApi(channel_access_token)\n",
    "\n",
    "rich_menu_list = line_bot_api.get_rich_menu_list()\n",
    "\n",
    "for rich_menu in rich_menu_list:\n",
    "    print(rich_menu.rich_menu_id)"
   ]
  },
  {
   "cell_type": "markdown",
   "metadata": {},
   "source": [
    "## 目前的選單id\n",
    "四格(2500x810)：richmenu-c4b5962ad93afa75c8c4b0c0041d2f2d"
   ]
  },
  {
   "cell_type": "markdown",
   "metadata": {},
   "source": [
    "## 刪除 Rich menus"
   ]
  },
  {
   "cell_type": "code",
   "execution_count": 3,
   "metadata": {},
   "outputs": [],
   "source": [
    "from linebot import  LineBotApi, WebhookHandler\n",
    "\n",
    "line_bot_api = LineBotApi(channel_access_token)\n",
    "\n",
    "line_bot_api.delete_rich_menu('richmenu-6b90cd4934d42acff32fef0e601b94e0')"
   ]
  }
 ],
 "metadata": {
  "interpreter": {
   "hash": "edc4b4b5e6f175ab032b7d8eca5a5e27692421e32033ff5d99f93219486aa069"
  },
  "kernelspec": {
   "display_name": "Python 3.6.13 ('linebot')",
   "language": "python",
   "name": "python3"
  },
  "language_info": {
   "codemirror_mode": {
    "name": "ipython",
    "version": 3
   },
   "file_extension": ".py",
   "mimetype": "text/x-python",
   "name": "python",
   "nbconvert_exporter": "python",
   "pygments_lexer": "ipython3",
   "version": "3.6.13"
  },
  "orig_nbformat": 4
 },
 "nbformat": 4,
 "nbformat_minor": 2
}
